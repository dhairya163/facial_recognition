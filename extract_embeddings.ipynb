{
 "cells": [
  {
   "cell_type": "code",
   "execution_count": 2,
   "metadata": {
    "collapsed": true
   },
   "outputs": [],
   "source": [
    "\n",
    "# import libraries\n",
    "from imutils import paths\n",
    "import numpy as np\n",
    "import argparse\n",
    "import imutils\n",
    "import pickle\n",
    "import cv2\n",
    "import os"
   ]
  },
  {
   "cell_type": "code",
   "execution_count": 3,
   "outputs": [
    {
     "name": "stdout",
     "output_type": "stream",
     "text": [
      "Loading Face Detector...\n",
      "Loading Face Recognizer...\n",
      "Quantifying Faces...\n",
      "Processing image 0/21\n",
      "[INFO] serializing 21 encodings...\n"
     ]
    }
   ],
   "source": [
    "\n",
    "# load serialized face detector\n",
    "print(\"Loading Face Detector...\")\n",
    "protoPath = \"face_detection_model/deploy.prototxt\"\n",
    "modelPath = \"face_detection_model/res10_300x300_ssd_iter_140000.caffemodel\"\n",
    "detector = cv2.dnn.readNetFromCaffe(protoPath, modelPath)\n",
    "\n",
    "# load serialized face embedding model\n",
    "print(\"Loading Face Recognizer...\")\n",
    "embedder = cv2.dnn.readNetFromTorch(\"openface_nn4.small2.v1.t7\")\n",
    "\n",
    "# grab the paths to the input images in our dataset\n",
    "print(\"Quantifying Faces...\")\n",
    "imagePaths = list(paths.list_images(\"dataset\"))\n",
    "\n",
    "# initialize our lists of extracted facial embeddings and corresponding people names\n",
    "knownEmbeddings = []\n",
    "knownNames = []\n",
    "\n",
    "# initialize the total number of faces processed\n",
    "total = 0\n",
    "\n",
    "# loop over the image paths\n",
    "for (i, imagePath) in enumerate(imagePaths):\n",
    "\t# extract the person name from the image path\n",
    "\tif (i%50 == 0):\n",
    "\t\tprint(\"Processing image {}/{}\".format(i, len(imagePaths)))\n",
    "\tname = imagePath.split(os.path.sep)[-2]\n",
    "\n",
    "\t# load the image, resize it to have a width of 600 pixels (while maintaining the aspect ratio), and then grab the image dimensions\n",
    "\timage = cv2.imread(imagePath)\n",
    "\timage = imutils.resize(image, width=600)\n",
    "\t(h, w) = image.shape[:2]\n",
    "\n",
    "\t# construct a blob from the image\n",
    "\timageBlob = cv2.dnn.blobFromImage(\n",
    "\t\tcv2.resize(image, (300, 300)), 1.0, (300, 300),\n",
    "\t\t(104.0, 177.0, 123.0), swapRB=False, crop=False)\n",
    "\n",
    "\t# apply OpenCV's deep learning-based face detector to localize faces in the input image\n",
    "\tdetector.setInput(imageBlob)\n",
    "\tdetections = detector.forward()\n",
    "\n",
    "\t# ensure at least one face was found\n",
    "\tif len(detections) > 0:\n",
    "\t\t# we're making the assumption that each image has only ONE face, so find the bounding box with the largest probability\n",
    "\t\ti = np.argmax(detections[0, 0, :, 2])\n",
    "\t\tconfidence = detections[0, 0, i, 2]\n",
    "\n",
    "\t\t# ensure that the detection with the largest probability also means our minimum probability test (thus helping filter out weak detections)\n",
    "\t\tif confidence > 0.5:\n",
    "\t\t\t# compute the (x, y)-coordinates of the bounding box for the face\n",
    "\t\t\tbox = detections[0, 0, i, 3:7] * np.array([w, h, w, h])\n",
    "\t\t\t(startX, startY, endX, endY) = box.astype(\"int\")\n",
    "\n",
    "\t\t\t# extract the face ROI and grab the ROI dimensions\n",
    "\t\t\tface = image[startY:endY, startX:endX]\n",
    "\t\t\t(fH, fW) = face.shape[:2]\n",
    "\n",
    "\t\t\t# ensure the face width and height are sufficiently large\n",
    "\t\t\tif fW < 20 or fH < 20:\n",
    "\t\t\t\tcontinue\n",
    "\n",
    "\t\t\t# construct a blob for the face ROI, then pass the blob through our face embedding model to obtain the 128-d quantification of the face\n",
    "\t\t\tfaceBlob = cv2.dnn.blobFromImage(face, 1.0 / 255,\n",
    "\t\t\t\t(96, 96), (0, 0, 0), swapRB=True, crop=False)\n",
    "\t\t\tembedder.setInput(faceBlob)\n",
    "\t\t\tvec = embedder.forward()\n",
    "\n",
    "\t\t\t# add the name of the person + corresponding face embedding to their respective lists\n",
    "\t\t\tknownNames.append(name)\n",
    "\t\t\tknownEmbeddings.append(vec.flatten())\n",
    "\t\t\ttotal += 1\n",
    "\n",
    "# dump the facial embeddings + names to disk\n",
    "print(\"[INFO] serializing {} encodings...\".format(total))\n",
    "data = {\"embeddings\": knownEmbeddings, \"names\": knownNames}\n",
    "f = open(\"output/embeddings.pickle\", \"wb\")\n",
    "f.write(pickle.dumps(data))\n",
    "f.close()"
   ],
   "metadata": {
    "collapsed": false,
    "pycharm": {
     "name": "#%%\n"
    }
   }
  },
  {
   "cell_type": "code",
   "execution_count": 6,
   "outputs": [
    {
     "data": {
      "text/plain": "array([[[[0.        , 1.        , 0.99167633, ..., 0.33890122,\n          0.57318795, 0.74720746],\n         [0.        , 1.        , 0.13421215, ..., 3.9976003 ,\n          4.837137  , 4.9836473 ],\n         [0.        , 1.        , 0.12260306, ..., 4.00388   ,\n          0.82911944, 4.98953   ],\n         ...,\n         [0.        , 0.        , 0.        , ..., 0.        ,\n          0.        , 0.        ],\n         [0.        , 0.        , 0.        , ..., 0.        ,\n          0.        , 0.        ],\n         [0.        , 0.        , 0.        , ..., 0.        ,\n          0.        , 0.        ]]]], dtype=float32)"
     },
     "execution_count": 6,
     "metadata": {},
     "output_type": "execute_result"
    }
   ],
   "source": [
    "detections"
   ],
   "metadata": {
    "collapsed": false,
    "pycharm": {
     "name": "#%%\n"
    }
   }
  },
  {
   "cell_type": "code",
   "execution_count": 7,
   "outputs": [
    {
     "data": {
      "text/plain": "(1, 1, 200, 7)"
     },
     "execution_count": 7,
     "metadata": {},
     "output_type": "execute_result"
    }
   ],
   "source": [
    "detections.shape"
   ],
   "metadata": {
    "collapsed": false,
    "pycharm": {
     "name": "#%%\n"
    }
   }
  },
  {
   "cell_type": "code",
   "execution_count": 11,
   "outputs": [
    {
     "data": {
      "text/plain": "(137, 94)"
     },
     "execution_count": 11,
     "metadata": {},
     "output_type": "execute_result"
    }
   ],
   "source": [],
   "metadata": {
    "collapsed": false,
    "pycharm": {
     "name": "#%%\n"
    }
   }
  },
  {
   "cell_type": "code",
   "execution_count": null,
   "outputs": [],
   "source": [],
   "metadata": {
    "collapsed": false,
    "pycharm": {
     "name": "#%%\n"
    }
   }
  }
 ],
 "metadata": {
  "kernelspec": {
   "display_name": "Python 3",
   "language": "python",
   "name": "python3"
  },
  "language_info": {
   "codemirror_mode": {
    "name": "ipython",
    "version": 2
   },
   "file_extension": ".py",
   "mimetype": "text/x-python",
   "name": "python",
   "nbconvert_exporter": "python",
   "pygments_lexer": "ipython2",
   "version": "2.7.6"
  }
 },
 "nbformat": 4,
 "nbformat_minor": 0
}